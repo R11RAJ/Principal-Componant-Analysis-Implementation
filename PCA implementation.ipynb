{
 "cells": [
  {
   "cell_type": "markdown",
   "metadata": {},
   "source": [
    "# Importing necessory libraries"
   ]
  },
  {
   "cell_type": "code",
   "execution_count": 1,
   "metadata": {},
   "outputs": [],
   "source": [
    "import numpy as np\n",
    "import h5py\n",
    "import matplotlib.pyplot as plt"
   ]
  },
  {
   "cell_type": "markdown",
   "metadata": {},
   "source": [
    "# Loading Images data"
   ]
  },
  {
   "cell_type": "code",
   "execution_count": 2,
   "metadata": {},
   "outputs": [],
   "source": [
    "f = h5py.File('faceimages.mat','r')\n",
    "data = f.get('data')\n",
    "data = np.array(data)"
   ]
  },
  {
   "cell_type": "markdown",
   "metadata": {},
   "source": [
    "# Preprocessing Data"
   ]
  },
  {
   "cell_type": "code",
   "execution_count": 3,
   "metadata": {},
   "outputs": [
    {
     "name": "stdout",
     "output_type": "stream",
     "text": [
      "X matrix's shape (400, 10304)\n"
     ]
    }
   ],
   "source": [
    "labels=[]\n",
    "X=[]\n",
    "for i in range(400):\n",
    "    labels.append(data[-1,i])\n",
    "    X.append(list(data[:-1,i]))\n",
    "    \n",
    "X=np.array(X)\n",
    "print(\"X matrix's shape\",X.shape)"
   ]
  },
  {
   "cell_type": "markdown",
   "metadata": {},
   "source": [
    "# Mean centering the data"
   ]
  },
  {
   "cell_type": "code",
   "execution_count": 4,
   "metadata": {},
   "outputs": [],
   "source": [
    "means=[]\n",
    "for i in range(10304):\n",
    "    s=sum(X[:,i])\n",
    "    means.append(s/400)\n",
    "A=[]\n",
    "for i in range(10304):\n",
    "    s=list(np.subtract(X[:,i],means[i]))\n",
    "    A.append(s)\n",
    "A=np.array(A)"
   ]
  },
  {
   "cell_type": "markdown",
   "metadata": {},
   "source": [
    "# Building Covariance Matrix"
   ]
  },
  {
   "cell_type": "code",
   "execution_count": 5,
   "metadata": {},
   "outputs": [
    {
     "name": "stdout",
     "output_type": "stream",
     "text": [
      "A matrix shape: (10304, 400)\n",
      "Covariance Matrix Shape:  (10304, 10304)\n"
     ]
    }
   ],
   "source": [
    "print('A matrix shape:',A.shape)\n",
    "\n",
    "AT=np.transpose(A)\n",
    "#print(AT.shape)\n",
    "\n",
    "C=np.dot(A,AT)\n",
    "print('Covariance Matrix Shape: ',C.shape)"
   ]
  },
  {
   "cell_type": "markdown",
   "metadata": {},
   "source": [
    "# Reducing Dimensions or Solving the eigen value equation"
   ]
  },
  {
   "cell_type": "code",
   "execution_count": 21,
   "metadata": {},
   "outputs": [
    {
     "name": "stdout",
     "output_type": "stream",
     "text": [
      "Reduced Weight Matrix Shape:  (10304, 1000)\n",
      "X transpose Shape:  (10304, 400)\n"
     ]
    }
   ],
   "source": [
    "w, v = np.linalg.eig(C) \n",
    "w=np.real(w)\n",
    "v=np.real(v)\n",
    "idx = w.argsort()[::-1]   \n",
    "eigenValues = w[idx]\n",
    "eigenVectors = v[:,idx]\n",
    "reducedW=eigenVectors[:,:1000]\n",
    "print('Reduced Weight Matrix Shape: ',reducedW.shape)\n",
    "print('X transpose Shape: ',X.transpose().shape)"
   ]
  },
  {
   "cell_type": "markdown",
   "metadata": {},
   "source": [
    "# Reduced Dimensions of images"
   ]
  },
  {
   "cell_type": "code",
   "execution_count": 22,
   "metadata": {},
   "outputs": [
    {
     "name": "stdout",
     "output_type": "stream",
     "text": [
      "Reduced Dimensions:  (1000, 400)\n"
     ]
    }
   ],
   "source": [
    "final=np.dot(reducedW.transpose(),X.transpose())\n",
    "print(\"Reduced Dimensions: \",final.shape)"
   ]
  },
  {
   "cell_type": "markdown",
   "metadata": {},
   "source": [
    "# Plotting the Energy Curve"
   ]
  },
  {
   "cell_type": "code",
   "execution_count": 23,
   "metadata": {},
   "outputs": [
    {
     "data": {
      "image/png": "[encoded data removed]",
      "text/plain": [
       "<Figure size 432x288 with 1 Axes>"
      ]
     },
     "metadata": {
      "needs_background": "light"
     },
     "output_type": "display_data"
    }
   ],
   "source": [
    "ev_sum=sum(eigenValues)\n",
    "energy=[]\n",
    "for i in range(10304):\n",
    "    energy.append(sum(eigenValues[0:i+1])/ev_sum)\n",
    "    \n",
    "plt.plot(np.linspace(1,1000,1000),energy[:1000],marker='x')\n",
    "plt.xlabel('Eigen Values count')\n",
    "plt.ylabel('Eigen Values sum')\n",
    "plt.show()"
   ]
  },
  {
   "cell_type": "markdown",
   "metadata": {},
   "source": [
    "# Image reconstruction and calculating reconstruction error"
   ]
  },
  {
   "cell_type": "code",
   "execution_count": 24,
   "metadata": {},
   "outputs": [
    {
     "name": "stdout",
     "output_type": "stream",
     "text": [
      "Principal Componants Considered: 5\n",
      "Average Error: 102.21417189498374 \n",
      "\n",
      "\n",
      "Principal Componants Considered: 10\n",
      "Average Error: 105.84525050912832 \n",
      "\n",
      "\n",
      "Principal Componants Considered: 50\n",
      "Average Error: 109.70524593688896 \n",
      "\n",
      "\n",
      "Principal Componants Considered: 100\n",
      "Average Error: 110.53728419514863 \n",
      "\n",
      "\n",
      "Principal Componants Considered: 500\n",
      "Average Error: 111.3681620416001 \n",
      "\n",
      "\n",
      "Principal Componants Considered: 1000\n",
      "Average Error: 111.39969694992936 \n",
      "\n",
      "\n",
      "Principal Componants Considered: 5000\n",
      "Average Error: 111.65247669918176 \n",
      "\n",
      "\n",
      "Principal Componants Considered: 10000\n",
      "Average Error: 112.00429461141147 \n",
      "\n",
      "\n"
     ]
    }
   ],
   "source": [
    "errors=[]\n",
    "for i in [5,10,50,100,500,1000,5000,10000]:\n",
    "    reducedW=eigenVectors[:,:i]\n",
    "    final=np.dot(reducedW.transpose(),X.transpose())\n",
    "    recovered=np.dot(final.transpose(),reducedW.transpose())\n",
    "    error=0\n",
    "    for j in range(400):\n",
    "        for x in range(10304):\n",
    "            recovered[j,x]=recovered[j,x]+means[x]\n",
    "            error+=abs(recovered[j,x]-X[j,x])\n",
    "    print('Principal Componants Considered:',i)\n",
    "    print('Average Error:',error/4121600,'\\n\\n')\n",
    "    errors.append(error/4121600)"
   ]
  },
  {
   "cell_type": "markdown",
   "metadata": {},
   "source": [
    "# Average Reconstruction Error graph"
   ]
  },
  {
   "cell_type": "code",
   "execution_count": 25,
   "metadata": {},
   "outputs": [
    {
     "data": {
      "image/png": "[encoded data removed]",
      "text/plain": [
       "<Figure size 432x288 with 1 Axes>"
      ]
     },
     "metadata": {
      "needs_background": "light"
     },
     "output_type": "display_data"
    }
   ],
   "source": [
    "plt.plot([5,10,50,100,500,1000,5000,10000],errors, marker='o', linestyle='dashed')\n",
    "plt.xlabel('Principal Componants considered')\n",
    "plt.ylabel('Average error')\n",
    "plt.show()"
   ]
  },
  {
   "cell_type": "markdown",
   "metadata": {},
   "source": [
    "# Observations"
   ]
  },
  {
   "cell_type": "markdown",
   "metadata": {},
   "source": [
    "1. Some of the Eigen values and Eigen vectors were complex in nature but due to that fact there complex was too small so I ignored it and only took the real part.\n",
    "2. Although other approach we can take to deal with complex values in eigen values and vectors is to change the order of data.\n",
    "3. Principal Componant Analysis was done successfully and energy curve has been generated.\n",
    "4. Engery curve shows one important aspect that after taking the sum of top 500 eigen values it is very close to 1 which means eigen values after 500 does not really any significant effect.\n",
    "5. Images were reconstructed using 5,10,50,100,500,1000,5000 and 10000 componants and their average error was computed.\n",
    "6. Average Error clearly follows energy curve, it show thats if we increase the number of componants beyond 500 the average error changes very slightly."
   ]
  }
 ],
 "metadata": {
  "kernelspec": {
   "display_name": "Python 3",
   "language": "python",
   "name": "python3"
  },
  "language_info": {
   "codemirror_mode": {
    "name": "ipython",
    "version": 3
   },
   "file_extension": ".py",
   "mimetype": "text/x-python",
   "name": "python",
   "nbconvert_exporter": "python",
   "pygments_lexer": "ipython3",
   "version": "3.7.4"
  }
 },
 "nbformat": 4,
 "nbformat_minor": 2
}
